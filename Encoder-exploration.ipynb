{
 "cells": [
  {
   "cell_type": "markdown",
   "metadata": {},
   "source": [
    "# Encoder Project - practice notebook\n",
    "\n",
    "This notebook will give you all the skills you need to code your Encoder Project"
   ]
  },
  {
   "cell_type": "markdown",
   "metadata": {},
   "source": [
    "## Reading from Files in Python"
   ]
  },
  {
   "cell_type": "markdown",
   "metadata": {},
   "source": [
    "In order to work with files you need a variable called a FILE HANDLE - think of it as the variable you can then use to GRAB the file\n"
   ]
  },
  {
   "cell_type": "markdown",
   "metadata": {},
   "source": [
    "Suppose you want to write to a file called work.txt  here's how you wpuld create it (if it does not yet exist) and open it.\n"
   ]
  },
  {
   "cell_type": "code",
   "execution_count": 1,
   "metadata": {},
   "outputs": [],
   "source": [
    "f = open('input.txt', 'w')"
   ]
  },
  {
   "cell_type": "code",
   "execution_count": 7,
   "metadata": {},
   "outputs": [
    {
     "data": {
      "text/plain": [
       "<_io.TextIOWrapper name='input.txt' mode='w' encoding='UTF-8'>"
      ]
     },
     "execution_count": 7,
     "metadata": {},
     "output_type": "execute_result"
    }
   ],
   "source": [
    "f"
   ]
  },
  {
   "cell_type": "markdown",
   "metadata": {},
   "source": [
    "# Question 1:\n",
    "\n",
    "What happened? (Hint: have a look in the directory structure)"
   ]
  },
  {
   "cell_type": "markdown",
   "metadata": {},
   "source": [
    "# Answer 1:\n",
    "An empty textfile was automatically created"
   ]
  },
  {
   "cell_type": "markdown",
   "metadata": {},
   "source": [
    "# Question 2\n",
    "\n",
    "The line of code above opens a file for WRITING - how could you change it to open a file for READING?"
   ]
  },
  {
   "cell_type": "markdown",
   "metadata": {},
   "source": [
    "# Answer 2:\n",
    "By replacing the `'w'` with a `'r'` in the first line of code "
   ]
  },
  {
   "cell_type": "markdown",
   "metadata": {},
   "source": [
    "# Task:\n",
    "Put some words into the file (open it up and type them in!). One on each line, or separated by commas if there are more than one word per line. Start like this for instance:\n",
    "```\n",
    "apple, banana, pear\n",
    "grapefruit\n",
    "grape, satsuma, watermelon\n",
    "litchi\n",
    "```\n",
    "\n",
    "add at least 10\n",
    "\n",
    "**remember to SAVE the file!**\n"
   ]
  },
  {
   "cell_type": "code",
   "execution_count": 3,
   "metadata": {},
   "outputs": [],
   "source": [
    "file = open('work.txt', 'w')\n",
    "listOfLines = [\"apple, bannana, pear, grapefruit\\n\", \"Grape\\n\", \"satsuma, watermelon\", \"litchi\"]\n",
    "\n",
    "for line in listOfLines: # iterates through the list line by line\n",
    "    file.write(line)\n",
    "    \n",
    "file.close()"
   ]
  },
  {
   "cell_type": "code",
   "execution_count": 4,
   "metadata": {},
   "outputs": [
    {
     "data": {
      "text/plain": [
       "['apple, bannana, pear, grapefruit\\n', 'Grape\\n', 'satsuma, watermelonlitchi']"
      ]
     },
     "execution_count": 4,
     "metadata": {},
     "output_type": "execute_result"
    }
   ],
   "source": [
    "f = open('work.txt', 'r')\n",
    "fileContents = f.readlines()\n",
    "fileContents"
   ]
  },
  {
   "cell_type": "markdown",
   "metadata": {},
   "source": [
    "# Question 3:\n",
    "\n",
    "What **data type** is fileContents?"
   ]
  },
  {
   "cell_type": "markdown",
   "metadata": {},
   "source": [
    "# Answer 3:\n",
    "\n",
    "\n",
    "In the actuall file it is formeted as text (I suppose it could be called a multi line string)   \n",
    "The `filename.readlines()` method returens a list"
   ]
  },
  {
   "cell_type": "code",
   "execution_count": 70,
   "metadata": {},
   "outputs": [
    {
     "data": {
      "text/plain": [
       "'apple, bannana, pear, grapefruit\\nGrape\\nsatsuma, watermelonlitchitest'"
      ]
     },
     "execution_count": 70,
     "metadata": {},
     "output_type": "execute_result"
    }
   ],
   "source": [
    "f = open('work.txt', 'r')\n",
    "fileContents = f.read()\n",
    "fileContents"
   ]
  },
  {
   "cell_type": "markdown",
   "metadata": {},
   "source": [
    "# Question 4:\n",
    "\n",
    "What **data type** is fileContents now? **Why?**"
   ]
  },
  {
   "cell_type": "markdown",
   "metadata": {},
   "source": [
    "# Answer 4:\n",
    "\n",
    "The `filename.read()` method returns a string.  "
   ]
  },
  {
   "cell_type": "markdown",
   "metadata": {},
   "source": [
    "# Think\n",
    "\n",
    "Do you notice that you have a newline character ```\\n``` at the end of each line  in the file? That's because you typed ENTER after each line and this is a valid character and so is read like any other\n",
    "\n",
    "so you need to remove the newline character... \n",
    "\n",
    "Also, we've got to choose where to go with lists (of strings) like these:\n",
    "\n",
    "``` python\n",
    "['apple, banana, pear\\n',\n",
    " 'grapefruit\\n',\n",
    " 'grape, satsuma, watermelon\\n',\n",
    " 'litchi'] \n",
    "```\n",
    "or strings like these:\n",
    "\n",
    "``` python\n",
    "'apple, banana, pear\\ngrapefruit\\ngrape, satsuma, watermelon\\nlitchi'\n",
    "```\n",
    "and then turn either one into a *clean* list of strings like this:\n",
    "``` python\n",
    "['apple', 'banana', 'pear','grapefruit','grape', 'satsuma', 'watermelon','litchi'] \n",
    "```\n"
   ]
  },
  {
   "cell_type": "markdown",
   "metadata": {},
   "source": [
    "## Python string methods \n",
    "\n",
    "https://docs.python.org/3.3/library/stdtypes.html#string-methods"
   ]
  },
  {
   "cell_type": "markdown",
   "metadata": {},
   "source": [
    "# Experiment  - SPLIT\n",
    "\n",
    "```python\n",
    "    str.split(sep=None)\n",
    "```"
   ]
  },
  {
   "cell_type": "code",
   "execution_count": 6,
   "metadata": {},
   "outputs": [
    {
     "data": {
      "text/plain": [
       "['This is a l',\n",
       " 'ng example string, @ with l',\n",
       " 'ts ',\n",
       " 'f different @&% bits 012xyz']"
      ]
     },
     "execution_count": 6,
     "metadata": {},
     "output_type": "execute_result"
    }
   ],
   "source": [
    "s = \"This is a long example string, @ with lots of different @&% bits 012xyz\"\n",
    "s.split(\"o\") "
   ]
  },
  {
   "cell_type": "markdown",
   "metadata": {},
   "source": [
    "## What does the .split() method do?\n",
    "\n",
    "Splits a string into a list, the argument tells the method where to split the string into a list, as a character datatype.\n",
    "The split also takes away the value it was asked to split by."
   ]
  },
  {
   "cell_type": "markdown",
   "metadata": {},
   "source": [
    "# Experiment  - STRIP\n",
    "\n",
    "```python\n",
    "str.strip(chars)\n",
    "```\n"
   ]
  },
  {
   "cell_type": "code",
   "execution_count": 71,
   "metadata": {},
   "outputs": [
    {
     "name": "stdout",
     "output_type": "stream",
     "text": [
      "hello world\n",
      "ello world\n",
      "ooohello worldoooo\n"
     ]
    }
   ],
   "source": [
    "s=\"ooohello worldoooo\"\n",
    "newS = s.strip(\"o\")\n",
    "print(newS)\n",
    "newS = s.strip(\"oh\")\n",
    "print(newS)\n",
    "newS = s.strip(\"r\")\n",
    "print(newS)"
   ]
  },
  {
   "cell_type": "markdown",
   "metadata": {},
   "source": [
    "## What does the .strip() method do?\n",
    "\n",
    "Remove extra data i.e. whitenoise. \n",
    "It removed the characters that were repeaded, but not the ones in words"
   ]
  },
  {
   "cell_type": "markdown",
   "metadata": {},
   "source": [
    "## Task \n",
    "\n",
    "Write python code to\n",
    "- open the text file for reading\n",
    "- read the contents into a list or string (you choose)\n",
    "- create a list of strings with no newline characters\n",
    "- print the final list to see that you have been successful"
   ]
  },
  {
   "cell_type": "code",
   "execution_count": 223,
   "metadata": {},
   "outputs": [
    {
     "name": "stdout",
     "output_type": "stream",
     "text": [
      "['table', 'chair', 'sofa', 'window']\n"
     ]
    }
   ],
   "source": [
    "file = open('taskFurniture.txt', 'w')\n",
    "listOfFurniture = \"table chair sofa window\".split()\n",
    "print(listOfFurniture)\n",
    "\n",
    "for item in listOfFurniture:\n",
    "    file.writelines(item + \"\\n\")\n",
    "    \n",
    "file.close()"
   ]
  },
  {
   "cell_type": "code",
   "execution_count": 281,
   "metadata": {},
   "outputs": [
    {
     "name": "stdout",
     "output_type": "stream",
     "text": [
      "['table\\n', 'chair\\n', 'sofa\\n', 'window\\n']\n",
      "['table', 'chair', 'sofa', 'window']\n"
     ]
    },
    {
     "data": {
      "text/plain": [
       "'table, chair, sofa, window'"
      ]
     },
     "execution_count": 281,
     "metadata": {},
     "output_type": "execute_result"
    }
   ],
   "source": [
    "f = open('taskFurniture.txt', 'r')\n",
    "fileContents = f.readlines()\n",
    "f.close()\n",
    "print(fileContents)\n",
    "\n",
    "for index, item in enumerate(fileContents): # I got the ennumerate method from stackoverflow\n",
    "    fileContents[index] = item[:-1] # this splits the list and takes away the last two characters\n",
    "    \n",
    "print(fileContents)\n",
    "\", \".join(fileContents)"
   ]
  },
  {
   "cell_type": "markdown",
   "metadata": {},
   "source": [
    "\n",
    "# Strings\n",
    "\n",
    "A string in python is built-in or standard data type that is made of a sequence of [Unicode](https://en.wikipedia.org/wiki/Unicode) characters. Strings are [immutable](https://en.wikibooks.org/wiki/Python_Programming/Data_Types#Mutable_vs_Immutable_Objects)\n",
    "\n",
    "e.g. \"hello\", \"abc123\", \"hello world\", \"CD9-023-4F%\" , \"I just can't get enough\"\n",
    "\n",
    "## NOTE ON SYNTAX: \n",
    "You can use single quotes in Python but we will always use double quotes because\n",
    "\n",
    "1) The you can write strings like  \"I just can't get enough\"\n",
    "\n",
    "2) Its more consistent with other langauges like C and Java\n",
    "\n",
    "## Manipulating Strings with python [String methods](https://docs.python.org/3.3/library/stdtypes.html#text-sequence-type-str)\n",
    "\n",
    "### Finding substrings or characters in Strings\n",
    "\n",
    "```python\n",
    "    str.find(sub)\n",
    "```\n",
    "Return the lowest index in the string where substring sub is found. Return -1 if sub is not found."
   ]
  },
  {
   "cell_type": "code",
   "execution_count": 5,
   "metadata": {},
   "outputs": [
    {
     "data": {
      "text/plain": [
       "3"
      ]
     },
     "execution_count": 5,
     "metadata": {},
     "output_type": "execute_result"
    }
   ],
   "source": [
    "s = \"we are the world\"\n",
    "s.find(\"are\")"
   ]
  },
  {
   "cell_type": "code",
   "execution_count": 286,
   "metadata": {},
   "outputs": [
    {
     "data": {
      "text/plain": [
       "-1"
      ]
     },
     "execution_count": 286,
     "metadata": {},
     "output_type": "execute_result"
    }
   ],
   "source": [
    "s.find(\"z\")"
   ]
  },
  {
   "cell_type": "code",
   "execution_count": 287,
   "metadata": {},
   "outputs": [
    {
     "data": {
      "text/plain": [
       "3"
      ]
     },
     "execution_count": 287,
     "metadata": {},
     "output_type": "execute_result"
    }
   ],
   "source": [
    "s = \"we are the world are\"\n",
    "s.find(\"are\")"
   ]
  },
  {
   "cell_type": "markdown",
   "metadata": {},
   "source": [
    "## Question\n",
    "\n",
    "What if the substring (which may be one character) appears twice?\n",
    "\n",
    "## Your Answer:\n",
    "\n",
    "The method will still return the first index where the substring can be found"
   ]
  },
  {
   "cell_type": "markdown",
   "metadata": {},
   "source": [
    "### Removing substrings or characters in Strings\n",
    "\n",
    "Because Python strings are immutable there is no method for this, so you'll have to write a your own function. It will actually produce another string which can then just be assigned to the original string so its seems like its changed, but actually the variable is pointing to another part of memory. This means lots of variables are created in memory that can no longer be accessed and so as not to waste memory Python will need to done some [garbage collection](https://docs.python.org/3/glossary.html#term-garbage-collection). Luckily Python does this for you\n"
   ]
  },
  {
   "cell_type": "code",
   "execution_count": 6,
   "metadata": {},
   "outputs": [],
   "source": [
    "#This function removes the character c from the string s\n",
    "def removeCharFromString(characterToRemove, string):\n",
    "    \"\"\" A functionto remove a character from a given string\"\"\"\n",
    "    newString = \"\" \n",
    "    for characterInString in string:\n",
    "        if characterInString != characterToRemove:\n",
    "            newString = newString + characterInString\n",
    "    return newString\n",
    "    "
   ]
  },
  {
   "cell_type": "code",
   "execution_count": 369,
   "metadata": {},
   "outputs": [
    {
     "name": "stdout",
     "output_type": "stream",
     "text": [
      "tht ws lot of fun\n"
     ]
    }
   ],
   "source": [
    "newS= removeCharFromString(\"a\",\"that was alot of fun\")\n",
    "print(newS)"
   ]
  },
  {
   "cell_type": "code",
   "execution_count": 374,
   "metadata": {},
   "outputs": [],
   "source": [
    "# TESTING\n",
    "# run this assert, if you function works correctly, it won't return \n",
    "# an AssertionError\n",
    "# assert(removeCharFromString(\"a\", \"that was fun\") == \"tht ws lot of fun\") # There is a mistake in this one there is an in the string after the equals but not in the argument before\n",
    "assert(removeCharFromString(\"a\", \"that was fun\") == \"tht ws fun\")"
   ]
  },
  {
   "cell_type": "markdown",
   "metadata": {},
   "source": [
    "## Task : find and replace\n",
    "\n",
    "Now write another function that will find a character in a string an replace it with another character that the user chooses. Adapt your code for ```removeCharFromString``` to achieve this"
   ]
  },
  {
   "cell_type": "code",
   "execution_count": 7,
   "metadata": {},
   "outputs": [],
   "source": [
    "def findReplaceChar(characterToRemove, characterToReplace, string):\n",
    "    \"\"\" A function that will find a specific character and replace it with annother character\"\"\"\n",
    "    newString = \"\" \n",
    "    for characterInString in string:\n",
    "        if characterInString != characterToRemove:\n",
    "            newString = newString + characterInString\n",
    "        else:\n",
    "            newString = newString + characterToReplace\n",
    "    return newString"
   ]
  },
  {
   "cell_type": "code",
   "execution_count": 376,
   "metadata": {},
   "outputs": [],
   "source": [
    "newS= findReplaceChar(\"a\", \"b\", \"that was alot of fun\")"
   ]
  },
  {
   "cell_type": "code",
   "execution_count": 377,
   "metadata": {},
   "outputs": [],
   "source": [
    "# TESTING\n",
    "# run this assert, if you function works correctly, it won't return \n",
    "# an AssertionError\n",
    "\n",
    "assert (findReplaceChar(\"a\", \"b\", \"that was alot of fun\") == \"thbt wbs blot of fun\")"
   ]
  },
  {
   "cell_type": "markdown",
   "metadata": {},
   "source": [
    "## Writing lists to files in python\n",
    "\n",
    "Once you have manipulated your list of strings, you'll want to save the content of the list back into a file. This sample code shows you how:"
   ]
  },
  {
   "cell_type": "code",
   "execution_count": 383,
   "metadata": {},
   "outputs": [],
   "source": [
    "wordList = ['one','two','three']\n",
    "f = open('output.txt', 'w')\n",
    "f.writelines(wordList)\n",
    "f.close()"
   ]
  },
  {
   "cell_type": "markdown",
   "metadata": {},
   "source": [
    "## what happened? Look at your folder structure\n",
    "\n",
    "The program printed each item in the list on a different line"
   ]
  },
  {
   "cell_type": "code",
   "execution_count": 8,
   "metadata": {},
   "outputs": [],
   "source": [
    "# now use your skills to write each word, one by one, on a new line in the file.\n",
    "wordList = ['one','two','three']\n",
    "f = open('output.txt', 'w')\n",
    "\n",
    "for line in wordList:\n",
    "    f.writelines(line + \"\\n\")\n",
    "\n",
    "f.close()"
   ]
  }
 ],
 "metadata": {
  "kernelspec": {
   "display_name": "Python 3",
   "language": "python",
   "name": "python3"
  },
  "language_info": {
   "codemirror_mode": {
    "name": "ipython",
    "version": 3
   },
   "file_extension": ".py",
   "mimetype": "text/x-python",
   "name": "python",
   "nbconvert_exporter": "python",
   "pygments_lexer": "ipython3",
   "version": "3.6.6"
  }
 },
 "nbformat": 4,
 "nbformat_minor": 2
}
